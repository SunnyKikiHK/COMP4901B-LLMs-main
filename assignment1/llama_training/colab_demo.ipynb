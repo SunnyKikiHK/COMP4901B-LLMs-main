{
  "cells": [
    {
      "cell_type": "markdown",
      "id": "8d3b43e0",
      "metadata": {
        "id": "8d3b43e0"
      },
      "source": [
        "###  Mount Google Drive"
      ]
    },
    {
      "cell_type": "code",
      "execution_count": 1,
      "id": "45c19e77",
      "metadata": {
        "vscode": {
          "languageId": "plaintext"
        },
        "id": "45c19e77",
        "outputId": "0a379cc3-d720-4c73-a13b-063a354467b5",
        "colab": {
          "base_uri": "https://localhost:8080/"
        }
      },
      "outputs": [
        {
          "output_type": "stream",
          "name": "stdout",
          "text": [
            "Mounted at /content/drive\n"
          ]
        }
      ],
      "source": [
        "import os\n",
        "\n",
        "# Mount Google Drive\n",
        "from google.colab import drive\n",
        "drive.mount('/content/drive')\n",
        "\n",
        "! mkdir -p /content/drive/MyDrive/COMP4901B-Homework1\n"
      ]
    },
    {
      "cell_type": "markdown",
      "id": "420dc8b7",
      "metadata": {
        "id": "420dc8b7"
      },
      "source": [
        "### Clone Codebase"
      ]
    },
    {
      "cell_type": "code",
      "execution_count": null,
      "id": "e20bdbde",
      "metadata": {
        "vscode": {
          "languageId": "plaintext"
        },
        "id": "e20bdbde"
      },
      "outputs": [],
      "source": [
        "! mkdir -p /content/drive/MyDrive/COMP4901B-Homework1\n",
        "! cd /content/drive/MyDrive/COMP4901B-Homework1 && git clone https://github.com/hkust-nlp/COMP4901B-LLMs.git"
      ]
    },
    {
      "cell_type": "markdown",
      "id": "29c6cfe0",
      "metadata": {
        "id": "29c6cfe0"
      },
      "source": [
        "### Download Dataset"
      ]
    },
    {
      "cell_type": "code",
      "execution_count": null,
      "id": "b5510016",
      "metadata": {
        "vscode": {
          "languageId": "plaintext"
        },
        "id": "b5510016"
      },
      "outputs": [],
      "source": [
        "! cd /content/drive/MyDrive/COMP4901B-Homework1/COMP4901B-LLMs-main/assignment1 && bash download_data.sh"
      ]
    },
    {
      "cell_type": "markdown",
      "id": "dfe18aa7",
      "metadata": {
        "id": "dfe18aa7"
      },
      "source": [
        "### Start The Training"
      ]
    },
    {
      "cell_type": "code",
      "execution_count": null,
      "id": "76f6abed",
      "metadata": {
        "vscode": {
          "languageId": "plaintext"
        },
        "id": "76f6abed"
      },
      "outputs": [],
      "source": [
        "! cd /content/drive/MyDrive/COMP4901B-Homework1/COMP4901B-LLMs-main/assignment1/llama_training && bash run_babylm.sh"
      ]
    },
    {
      "cell_type": "markdown",
      "source": [
        "### Part 3"
      ],
      "metadata": {
        "id": "JkLh9zWv9jLz"
      },
      "id": "JkLh9zWv9jLz"
    },
    {
      "cell_type": "markdown",
      "source": [
        "#### My trained model"
      ],
      "metadata": {
        "id": "arvWLhUL9tDy"
      },
      "id": "arvWLhUL9tDy"
    },
    {
      "cell_type": "code",
      "source": [
        "! cd /content/drive/MyDrive/COMP4901B-Homework1/COMP4901B-LLMs-main/assignment1/llama_training && python run_llama.py --pretrained-model-path run6-fix-loss-pretrain-1-0.001.pt --option generate"
      ],
      "metadata": {
        "id": "b0X_hdn19uhi",
        "outputId": "272f625c-3104-4c14-e202-dd1a67d20609",
        "colab": {
          "base_uri": "https://localhost:8080/"
        }
      },
      "id": "b0X_hdn19uhi",
      "execution_count": 2,
      "outputs": [
        {
          "output_type": "stream",
          "name": "stdout",
          "text": [
            "args: {'data_path': 'train_100M', 'pretrained_model_path': 'run6-fix-loss-pretrain-1-0.001.pt', 'max_sentence_len': None, 'seed': 1337, 'epochs': 5, 'option': 'generate', 'use_gpu': False, 'generated_sentence_low_temp_out': 'generated-sentence-temp-0.txt', 'generated_sentence_high_temp_out': 'generated-sentence-temp-1.txt', 'run_name': None, 'wandb_project': None, 'wandb_entity': None, 'batch_size': 8, 'micro_batch_size': 8, 'hidden_dropout_prob': 0.0, 'lr': 0.001, 'warmup_steps': 0, 'warmup_ratio': 0.0, 'block_size': 512, 'tokenized_dir': None, 'overwrite_tokenized': False, 'val_path': None, 'val_tokenized_dir': None, 'val_per_steps': 0, 'test_path': None, 'test_tokenized_dir': None, 'auto_resume': False}\n",
            "load model from run6-fix-loss-pretrain-1-0.001.pt\n",
            "Temperature is 0.0\n",
            "White Bird is a 2023 American war drama movie starring Jackie Hutton, Jackie Hutton, Jackie Hutton, Jackie Hutton, Jackie Hutton, Jackie Hutton, Jackie Hutton, Jackie Hutton, Jackie Hutton, Jackie Hutton, Jackie Hutton, Jackie Hutton, Jackie Hutton, Jackie Hutton, Jackie Hutton,\n",
            "---------------\n",
            "Wrote generated sentence to generated-sentence-temp-0.txt.\n",
            "load model from run6-fix-loss-pretrain-1-0.001.pt\n",
            "Temperature is 0.5\n",
            "White Bird is a 2023 American war drama movie starring Marlon McClay, Joe McClay, Ronald McClay, Ronald McClay, Ronald McClay, David, Ronald McClay, Ronald McClay, Ronald McClay, Shawn McClay, Ronald McClay, Michael McClay, Ronald McClay, Ronald Mc\n",
            "---------------\n",
            "Wrote generated sentence to generated-sentence-temp-1.txt.\n"
          ]
        }
      ]
    },
    {
      "cell_type": "markdown",
      "source": [],
      "metadata": {
        "id": "3NS3rITZ97-Z"
      },
      "id": "3NS3rITZ97-Z"
    },
    {
      "cell_type": "code",
      "source": [
        "from huggingface_hub import hf_hub_download\n",
        "\n",
        "repo_id = \"yuzhen17/llama2-42M-babylm\"\n",
        "filename = \"llama2-42M-babylm.pt\"\n",
        "local_download_path = \"/content/drive/MyDrive/COMP4901B-Homework1/COMP4901B-LLMs-main/assignment1/llama_training\"\n",
        "\n",
        "hf_hub_download(\n",
        "    repo_id=repo_id,\n",
        "    filename=filename,\n",
        "    local_dir=local_download_path\n",
        ")"
      ],
      "metadata": {
        "id": "qzzhneq19w-4",
        "outputId": "232cfecb-14ce-457b-a182-6f5094dd455a",
        "colab": {
          "base_uri": "https://localhost:8080/",
          "height": 36
        }
      },
      "id": "qzzhneq19w-4",
      "execution_count": 4,
      "outputs": [
        {
          "output_type": "execute_result",
          "data": {
            "text/plain": [
              "'/content/drive/MyDrive/COMP4901B-Homework1/COMP4901B-LLMs-main/assignment1/llama_training/llama2-42M-babylm.pt'"
            ],
            "application/vnd.google.colaboratory.intrinsic+json": {
              "type": "string"
            }
          },
          "metadata": {},
          "execution_count": 4
        }
      ]
    },
    {
      "cell_type": "code",
      "source": [
        "! cd /content/drive/MyDrive/COMP4901B-Homework1/COMP4901B-LLMs-main/assignment1/llama_training && python run_llama.py --generated_sentence_low_temp_out generated-sentence-temp-0_providedModel --generated_sentence_high_temp_out generated-sentence-temp-1_providedModel.txt --option generate"
      ],
      "metadata": {
        "id": "xODIaKln9_ou",
        "outputId": "f9e1cf69-b521-4184-c40a-fe882c62bdac",
        "colab": {
          "base_uri": "https://localhost:8080/"
        }
      },
      "id": "xODIaKln9_ou",
      "execution_count": 5,
      "outputs": [
        {
          "output_type": "stream",
          "name": "stdout",
          "text": [
            "args: {'data_path': 'train_100M', 'pretrained_model_path': 'llama2-42M-babylm.pt', 'max_sentence_len': None, 'seed': 1337, 'epochs': 5, 'option': 'generate', 'use_gpu': False, 'generated_sentence_low_temp_out': 'generated-sentence-temp-0_providedModel', 'generated_sentence_high_temp_out': 'generated-sentence-temp-1_providedModel.txt', 'run_name': None, 'wandb_project': None, 'wandb_entity': None, 'batch_size': 8, 'micro_batch_size': 8, 'hidden_dropout_prob': 0.0, 'lr': 0.001, 'warmup_steps': 0, 'warmup_ratio': 0.0, 'block_size': 512, 'tokenized_dir': None, 'overwrite_tokenized': False, 'val_path': None, 'val_tokenized_dir': None, 'val_per_steps': 0, 'test_path': None, 'test_tokenized_dir': None, 'auto_resume': False}\n",
            "load model from llama2-42M-babylm.pt\n",
            "Temperature is 0.0\n",
            "White Bird is a 2023 American war drama movie starring Diana Hunt, Diana Hunt, Diana Hunt, Diana Hunt, Diana Hunt, Diana Hunt, Diana Hunt, Diana Hunt, Diana Hunt, Diana Hunt, Diana Hunt, Diana Hunt, Diana Hunt, Diana Hunt, Diana Hunt,\n",
            "---------------\n",
            "Wrote generated sentence to generated-sentence-temp-0_providedModel.\n",
            "load model from llama2-42M-babylm.pt\n",
            "Temperature is 0.5\n",
            "White Bird is a 2023 American war drama movie starring George D. Dixon, Richard Dixon, Tiffany, George Deal, David L. M. Dixon, Richard Dixon, Chris Dixon, George A. C. Dixon, Richard Dixon, David H. Clark, Bill H. Bush, David H. Bush, John H. Bush, David H. Bush, Peter H. Bush\n",
            "---------------\n",
            "Wrote generated sentence to generated-sentence-temp-1_providedModel.txt.\n"
          ]
        }
      ]
    }
  ],
  "metadata": {
    "language_info": {
      "name": "python"
    },
    "colab": {
      "provenance": []
    },
    "kernelspec": {
      "name": "python3",
      "display_name": "Python 3"
    }
  },
  "nbformat": 4,
  "nbformat_minor": 5
}